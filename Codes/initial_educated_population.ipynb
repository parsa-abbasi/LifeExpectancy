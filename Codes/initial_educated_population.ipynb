{
 "cells": [
  {
   "cell_type": "code",
   "execution_count": 1,
   "metadata": {},
   "outputs": [],
   "source": [
    "import pandas as pd\n",
    "import numpy as np\n",
    "from usful_functions import change_col_year_to_index"
   ]
  },
  {
   "cell_type": "code",
   "execution_count": 9,
   "metadata": {},
   "outputs": [],
   "source": [
    "df_pure_edu = pd.read_csv('../data/Educated_population_final_data.csv', na_values=['..', '...'])\n",
    "df_pure_edu = df_pure_edu.drop(columns=['Unnamed: 0'])\n",
    "df_clean_edu = change_col_year_to_index(df_pure_edu, ['Country Name'])\n",
    "df_clean_edu = df_clean_edu[df_clean_edu[\"Year\"] <= 2022]\n",
    "\n",
    "df_country = pd.read_csv('../data/Educated_population_Country_Code.csv', na_values=['..', '...'])\n",
    "df_country.drop(columns=['Unnamed: 0'], inplace=True)\n",
    "df_clean_edu = df_clean_edu.merge(df_country, on='Country Name', how='left')\n",
    "\n",
    "df_clean_edu.rename(columns={'Country Name': 'Region, subregion, country or area *',\n",
    "                             'Country Code': 'ISO-alpha3 code',\n",
    "                             \"value\": \"Educated_Population\"}, inplace=True)\n",
    "df_clean_edu = df_clean_edu[['Region, subregion, country or area *', 'ISO-alpha3 code', 'Year', 'Educated_Population']]\n",
    "\n",
    "df_clean_edu.to_csv('../data/initial_cleaning/initial_cleaning_educated_population.csv', index=False)"
   ]
  }
 ],
 "metadata": {
  "kernelspec": {
   "display_name": "venv",
   "language": "python",
   "name": "python3"
  },
  "language_info": {
   "codemirror_mode": {
    "name": "ipython",
    "version": 3
   },
   "file_extension": ".py",
   "mimetype": "text/x-python",
   "name": "python",
   "nbconvert_exporter": "python",
   "pygments_lexer": "ipython3",
   "version": "3.10.5"
  },
  "orig_nbformat": 4,
  "vscode": {
   "interpreter": {
    "hash": "3c5abc1949fd4eb5a30b67ba9849e79eff0ab5ff63e84a04760f6b787d4091b9"
   }
  }
 },
 "nbformat": 4,
 "nbformat_minor": 2
}
