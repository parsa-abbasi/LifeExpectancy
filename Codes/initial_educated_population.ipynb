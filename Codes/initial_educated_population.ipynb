{
 "cells": [
  {
   "cell_type": "code",
   "execution_count": 1,
   "metadata": {},
   "outputs": [],
   "source": [
    "import pandas as pd\n",
    "import numpy as np\n",
    "from usful_functions import change_col_year_to_index"
   ]
  },
  {
   "cell_type": "code",
   "execution_count": 13,
   "metadata": {},
   "outputs": [],
   "source": [
    "df_pure_edu = pd.read_csv('../data/Educated_population_final_data.csv', na_values=['..', '...'])\n",
    "df_pure_edu = df_pure_edu.drop(columns=['Unnamed: 0'])\n",
    "df_clean_edu = change_col_year_to_index(df_pure_edu, ['Country Name'])\n",
    "df_clean_edu = df_clean_edu[df_clean_edu[\"Year\"] <= 2022]\n",
    "\n",
    "df_clean_edu.rename(columns={'Country Name': 'Region, subregion, country or area *',\n",
    "\"value\": \"Educated_Population\"}, inplace=True)\n",
    "\n",
    "df_clean_edu.to_csv('../data/initial_cleaning/initial_cleaning_educated_population.csv', index=False)"
   ]
  }
 ],
 "metadata": {
  "kernelspec": {
   "display_name": "Python 3",
   "language": "python",
   "name": "python3"
  },
  "language_info": {
   "codemirror_mode": {
    "name": "ipython",
    "version": 3
   },
   "file_extension": ".py",
   "mimetype": "text/x-python",
   "name": "python",
   "nbconvert_exporter": "python",
   "pygments_lexer": "ipython3",
   "version": "3.10.5"
  },
  "orig_nbformat": 4,
  "vscode": {
   "interpreter": {
    "hash": "20f41df98effd15f06d4e474c8de9a0a2663406a5adfa00ad9519be6c6092cc5"
   }
  }
 },
 "nbformat": 4,
 "nbformat_minor": 2
}
