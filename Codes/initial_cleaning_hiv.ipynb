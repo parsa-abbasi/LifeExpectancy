{
 "cells": [
  {
   "cell_type": "code",
   "execution_count": 1,
   "metadata": {
    "collapsed": true
   },
   "outputs": [],
   "source": [
    "import pandas as pd\n",
    "import numpy as np\n",
    "from usful_functions import change_col_year_to_index"
   ]
  },
  {
   "cell_type": "code",
   "execution_count": 7,
   "metadata": {},
   "outputs": [
    {
     "data": {
      "text/html": [
       "<div>\n",
       "<style scoped>\n",
       "    .dataframe tbody tr th:only-of-type {\n",
       "        vertical-align: middle;\n",
       "    }\n",
       "\n",
       "    .dataframe tbody tr th {\n",
       "        vertical-align: top;\n",
       "    }\n",
       "\n",
       "    .dataframe thead th {\n",
       "        text-align: right;\n",
       "    }\n",
       "</style>\n",
       "<table border=\"1\" class=\"dataframe\">\n",
       "  <thead>\n",
       "    <tr style=\"text-align: right;\">\n",
       "      <th></th>\n",
       "      <th>Region, subregion, country or area *</th>\n",
       "      <th>ISO-alpha3 code</th>\n",
       "      <th>Year</th>\n",
       "      <th>HIV</th>\n",
       "    </tr>\n",
       "  </thead>\n",
       "  <tbody>\n",
       "    <tr>\n",
       "      <th>0</th>\n",
       "      <td>Afghanistan</td>\n",
       "      <td>AFG</td>\n",
       "      <td>1990</td>\n",
       "      <td>500</td>\n",
       "    </tr>\n",
       "    <tr>\n",
       "      <th>1</th>\n",
       "      <td>Africa Eastern and Southern</td>\n",
       "      <td>AFE</td>\n",
       "      <td>1990</td>\n",
       "      <td>..</td>\n",
       "    </tr>\n",
       "    <tr>\n",
       "      <th>2</th>\n",
       "      <td>Africa Western and Central</td>\n",
       "      <td>AFW</td>\n",
       "      <td>1990</td>\n",
       "      <td>..</td>\n",
       "    </tr>\n",
       "    <tr>\n",
       "      <th>3</th>\n",
       "      <td>Albania</td>\n",
       "      <td>ALB</td>\n",
       "      <td>1990</td>\n",
       "      <td>100</td>\n",
       "    </tr>\n",
       "    <tr>\n",
       "      <th>4</th>\n",
       "      <td>Algeria</td>\n",
       "      <td>DZA</td>\n",
       "      <td>1990</td>\n",
       "      <td>500</td>\n",
       "    </tr>\n",
       "  </tbody>\n",
       "</table>\n",
       "</div>"
      ],
      "text/plain": [
       "  Region, subregion, country or area * ISO-alpha3 code  Year  HIV\n",
       "0                          Afghanistan             AFG  1990  500\n",
       "1          Africa Eastern and Southern             AFE  1990   ..\n",
       "2           Africa Western and Central             AFW  1990   ..\n",
       "3                              Albania             ALB  1990  100\n",
       "4                              Algeria             DZA  1990  500"
      ]
     },
     "metadata": {},
     "output_type": "display_data"
    }
   ],
   "source": [
    "df_pure_hiv = pd.read_csv('../data/HIV_Population_final_data.csv')\n",
    "df_pure_hiv = df_pure_hiv.drop(['Unnamed: 0'], axis=1)\n",
    "\n",
    "df_cleaned_hiv = change_col_year_to_index(df_pure_hiv, ['Country Name'])\n",
    "\n",
    "\n",
    "\n",
    "\n",
    "df_country = pd.read_csv('../data/HIV_Population_Country_Code.csv')\n",
    "df_country.drop(['Unnamed: 0'], axis=1, inplace=True)\n",
    "df_cleaned_hiv = df_cleaned_hiv.merge(df_country, on='Country Name', how='left')\n",
    "\n",
    "df_cleaned_hiv.rename(columns={'Country Name': \"Region, subregion, country or area *\",\n",
    "                               \"Country Code\": \"ISO-alpha3 code\",\n",
    "                               \"Year\": \"Year\",\n",
    "                               \"value\": \"HIV\"}, inplace=True)\n",
    "df_cleaned_hiv = df_cleaned_hiv[['Region, subregion, country or area *', 'ISO-alpha3 code', 'Year', 'HIV']]\n",
    "\n",
    "display(df_cleaned_hiv.head())\n",
    "# insert into csv\n",
    "df_cleaned_hiv.to_csv('../data/initial_cleaning/initial_cleaning_hiv.csv', index=False)"
   ]
  }
 ],
 "metadata": {
  "kernelspec": {
   "display_name": "venv",
   "language": "python",
   "name": "python3"
  },
  "language_info": {
   "codemirror_mode": {
    "name": "ipython",
    "version": 3
   },
   "file_extension": ".py",
   "mimetype": "text/x-python",
   "name": "python",
   "nbconvert_exporter": "python",
   "pygments_lexer": "ipython3",
   "version": "3.10.5"
  },
  "vscode": {
   "interpreter": {
    "hash": "3c5abc1949fd4eb5a30b67ba9849e79eff0ab5ff63e84a04760f6b787d4091b9"
   }
  }
 },
 "nbformat": 4,
 "nbformat_minor": 0
}
