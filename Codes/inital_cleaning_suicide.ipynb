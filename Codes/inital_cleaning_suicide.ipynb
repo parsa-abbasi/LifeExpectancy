{
 "cells": [
  {
   "cell_type": "code",
   "execution_count": 1,
   "metadata": {},
   "outputs": [],
   "source": [
    "import pandas as pd\n",
    "import numpy as np\n",
    "from usful_functions import change_col_year_to_index"
   ]
  },
  {
   "cell_type": "code",
   "execution_count": 8,
   "metadata": {},
   "outputs": [],
   "source": [
    "df_pure_suicide = pd.read_csv('../data/Suicide2019.csv')\n",
    "df_pure_suicide = df_pure_suicide[df_pure_suicide[\"Age\"] == \"YEARSALL\"].copy()\n",
    "df_pure_suicide = df_pure_suicide.drop(columns=['Unnamed: 0', 'ParentLocationCode', 'ParentLocation', 'Location type', 'Age']).copy()\n",
    "\n",
    "df_pure_suicide.rename(columns={\"SpatialDimValueCode\": \"ISO3 Alpha-code\",\n",
    "                                \"Location\": \"Region, subregion, country or area *\",\n",
    "                                \"TimeDim\": \"Year\",\n",
    "                                \"Value\":\"Suicide\"}, inplace=True)\n",
    "\n",
    "df_pure_suicide.to_csv('../data/initial_cleaning/initial_cleaning_suicide.csv', index=False)\n",
    "\n"
   ]
  },
  {
   "cell_type": "code",
   "execution_count": null,
   "metadata": {},
   "outputs": [],
   "source": []
  }
 ],
 "metadata": {
  "kernelspec": {
   "display_name": "Python 3",
   "language": "python",
   "name": "python3"
  },
  "language_info": {
   "codemirror_mode": {
    "name": "ipython",
    "version": 3
   },
   "file_extension": ".py",
   "mimetype": "text/x-python",
   "name": "python",
   "nbconvert_exporter": "python",
   "pygments_lexer": "ipython3",
   "version": "3.10.5"
  },
  "orig_nbformat": 4,
  "vscode": {
   "interpreter": {
    "hash": "20f41df98effd15f06d4e474c8de9a0a2663406a5adfa00ad9519be6c6092cc5"
   }
  }
 },
 "nbformat": 4,
 "nbformat_minor": 2
}
