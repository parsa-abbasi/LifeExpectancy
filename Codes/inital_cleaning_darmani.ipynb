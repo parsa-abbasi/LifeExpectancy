{
 "cells": [
  {
   "cell_type": "code",
   "execution_count": 2,
   "metadata": {},
   "outputs": [],
   "source": [
    "import pandas as pd\n",
    "import numpy as np\n",
    "from usful_functions import change_col_year_to_index"
   ]
  },
  {
   "cell_type": "code",
   "execution_count": 12,
   "metadata": {},
   "outputs": [
    {
     "data": {
      "text/html": [
       "<div>\n",
       "<style scoped>\n",
       "    .dataframe tbody tr th:only-of-type {\n",
       "        vertical-align: middle;\n",
       "    }\n",
       "\n",
       "    .dataframe tbody tr th {\n",
       "        vertical-align: top;\n",
       "    }\n",
       "\n",
       "    .dataframe thead th {\n",
       "        text-align: right;\n",
       "    }\n",
       "</style>\n",
       "<table border=\"1\" class=\"dataframe\">\n",
       "  <thead>\n",
       "    <tr style=\"text-align: right;\">\n",
       "      <th></th>\n",
       "      <th>ISO3 Alpha-code</th>\n",
       "      <th>Region, subregion, country or area *</th>\n",
       "      <th>Year</th>\n",
       "      <th>darmani*</th>\n",
       "    </tr>\n",
       "  </thead>\n",
       "  <tbody>\n",
       "    <tr>\n",
       "      <th>0</th>\n",
       "      <td>HTI</td>\n",
       "      <td>Haiti</td>\n",
       "      <td>2020</td>\n",
       "      <td>12.70</td>\n",
       "    </tr>\n",
       "    <tr>\n",
       "      <th>1</th>\n",
       "      <td>CAF</td>\n",
       "      <td>Central African Republic</td>\n",
       "      <td>2020</td>\n",
       "      <td>12.94</td>\n",
       "    </tr>\n",
       "    <tr>\n",
       "      <th>2</th>\n",
       "      <td>COM</td>\n",
       "      <td>Comoros</td>\n",
       "      <td>2020</td>\n",
       "      <td>14.47</td>\n",
       "    </tr>\n",
       "    <tr>\n",
       "      <th>3</th>\n",
       "      <td>NGA</td>\n",
       "      <td>Nigeria</td>\n",
       "      <td>2020</td>\n",
       "      <td>14.97</td>\n",
       "    </tr>\n",
       "    <tr>\n",
       "      <th>4</th>\n",
       "      <td>SLE</td>\n",
       "      <td>Sierra Leone</td>\n",
       "      <td>2020</td>\n",
       "      <td>15.54</td>\n",
       "    </tr>\n",
       "  </tbody>\n",
       "</table>\n",
       "</div>"
      ],
      "text/plain": [
       "  ISO3 Alpha-code Region, subregion, country or area *  Year  darmani*\n",
       "0             HTI                                Haiti  2020     12.70\n",
       "1             CAF             Central African Republic  2020     12.94\n",
       "2             COM                              Comoros  2020     14.47\n",
       "3             NGA                              Nigeria  2020     14.97\n",
       "4             SLE                         Sierra Leone  2020     15.54"
      ]
     },
     "metadata": {},
     "output_type": "display_data"
    }
   ],
   "source": [
    "df_pure_darmani = pd.read_csv('../data/darmani2020.csv')\n",
    "df_pure_darmani.drop(columns=['ParentLocationCode',\n",
    "'ParentLocation',\n",
    " 'Location type',  \n",
    " 'Period type',\n",
    " 'IsLatestYear', 'FactValueNumeric'], inplace=True)\n",
    " \n",
    "df_pure_darmani.rename(columns={'Period': 'Year', \n",
    "                                \"Value\": \"darmani*\", \n",
    "                                \"SpatialDimValueCode\": \"ISO3 Alpha-code\", \n",
    "                                \"Location\": \"Region, subregion, country or area *\"}, inplace=True)\n",
    "df_pure_darmani\n",
    "\n",
    "display(df_pure_darmani.head())\n",
    "df_pure_darmani.to_csv('../data/initial_cleaning/initial_cleaning_darmani.csv', index=False)\n"
   ]
  }
 ],
 "metadata": {
  "kernelspec": {
   "display_name": "Python 3",
   "language": "python",
   "name": "python3"
  },
  "language_info": {
   "codemirror_mode": {
    "name": "ipython",
    "version": 3
   },
   "file_extension": ".py",
   "mimetype": "text/x-python",
   "name": "python",
   "nbconvert_exporter": "python",
   "pygments_lexer": "ipython3",
   "version": "3.10.5"
  },
  "orig_nbformat": 4,
  "vscode": {
   "interpreter": {
    "hash": "20f41df98effd15f06d4e474c8de9a0a2663406a5adfa00ad9519be6c6092cc5"
   }
  }
 },
 "nbformat": 4,
 "nbformat_minor": 2
}
