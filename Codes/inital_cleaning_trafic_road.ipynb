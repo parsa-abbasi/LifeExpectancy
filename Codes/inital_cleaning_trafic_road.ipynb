{
 "cells": [
  {
   "cell_type": "code",
   "execution_count": 1,
   "metadata": {},
   "outputs": [],
   "source": [
    "import pandas as pd\n",
    "import numpy as np\n",
    "from usful_functions import change_col_year_to_index"
   ]
  },
  {
   "cell_type": "code",
   "execution_count": 7,
   "metadata": {},
   "outputs": [
    {
     "data": {
      "text/html": [
       "<div>\n",
       "<style scoped>\n",
       "    .dataframe tbody tr th:only-of-type {\n",
       "        vertical-align: middle;\n",
       "    }\n",
       "\n",
       "    .dataframe tbody tr th {\n",
       "        vertical-align: top;\n",
       "    }\n",
       "\n",
       "    .dataframe thead th {\n",
       "        text-align: right;\n",
       "    }\n",
       "</style>\n",
       "<table border=\"1\" class=\"dataframe\">\n",
       "  <thead>\n",
       "    <tr style=\"text-align: right;\">\n",
       "      <th></th>\n",
       "      <th>ISO3 Alpha-code</th>\n",
       "      <th>Region, subregion, country or area *</th>\n",
       "      <th>Year</th>\n",
       "      <th>Estimated road traffic death rate (per 100 000 population)</th>\n",
       "    </tr>\n",
       "  </thead>\n",
       "  <tbody>\n",
       "    <tr>\n",
       "      <th>0</th>\n",
       "      <td>ATG</td>\n",
       "      <td>Antigua and Barbuda</td>\n",
       "      <td>2019</td>\n",
       "      <td>0.00</td>\n",
       "    </tr>\n",
       "    <tr>\n",
       "      <th>1</th>\n",
       "      <td>FSM</td>\n",
       "      <td>Micronesia (Federated States of)</td>\n",
       "      <td>2019</td>\n",
       "      <td>0.16</td>\n",
       "    </tr>\n",
       "    <tr>\n",
       "      <th>2</th>\n",
       "      <td>MDV</td>\n",
       "      <td>Maldives</td>\n",
       "      <td>2019</td>\n",
       "      <td>1.63</td>\n",
       "    </tr>\n",
       "    <tr>\n",
       "      <th>3</th>\n",
       "      <td>KIR</td>\n",
       "      <td>Kiribati</td>\n",
       "      <td>2019</td>\n",
       "      <td>1.92</td>\n",
       "    </tr>\n",
       "    <tr>\n",
       "      <th>4</th>\n",
       "      <td>EGY</td>\n",
       "      <td>Egypt</td>\n",
       "      <td>2019</td>\n",
       "      <td>10.10</td>\n",
       "    </tr>\n",
       "  </tbody>\n",
       "</table>\n",
       "</div>"
      ],
      "text/plain": [
       "  ISO3 Alpha-code Region, subregion, country or area *  Year  \\\n",
       "0             ATG                  Antigua and Barbuda  2019   \n",
       "1             FSM     Micronesia (Federated States of)  2019   \n",
       "2             MDV                             Maldives  2019   \n",
       "3             KIR                             Kiribati  2019   \n",
       "4             EGY                                Egypt  2019   \n",
       "\n",
       "   Estimated road traffic death rate (per 100 000 population)  \n",
       "0                                               0.00           \n",
       "1                                               0.16           \n",
       "2                                               1.63           \n",
       "3                                               1.92           \n",
       "4                                              10.10           "
      ]
     },
     "metadata": {},
     "output_type": "display_data"
    }
   ],
   "source": [
    "df_pure_trafic_road = pd.read_csv('../data/trafic_road.csv')\n",
    "value_name = df_pure_trafic_road[\"Indicator\"].unique()[0]\n",
    "df_pure_trafic_road = df_pure_trafic_road.drop(columns=['Unnamed: 0', \n",
    "                                                        'Unnamed: 0.1', \n",
    "                                                        'IndicatorCode', \n",
    "                                                        'Indicator', \n",
    "                                                        'ParentLocationCode', \n",
    "                                                        'ParentLocation', \n",
    "                                                        'FactValueNumericLow',\n",
    "                                                        'FactValueNumericHigh',\n",
    "                                                        \"Value\"]).copy()\n",
    "\n",
    "df_pure_trafic_road.rename(columns={\"SpatialDimValueCode\": \"ISO3 Alpha-code\",\n",
    "                                \"Location\": \"Region, subregion, country or area *\",\n",
    "                                \"Period\": \"Year\",\n",
    "                                \"FactValueNumeric\": value_name}, inplace=True)\n",
    "\n",
    "display(df_pure_trafic_road.head())\n",
    "df_pure_trafic_road.to_csv('../data/initial_cleaning/initial_cleaning_trafic_road.csv', index=False)\n",
    "\n"
   ]
  },
  {
   "cell_type": "code",
   "execution_count": null,
   "metadata": {},
   "outputs": [],
   "source": []
  }
 ],
 "metadata": {
  "kernelspec": {
   "display_name": "Python 3",
   "language": "python",
   "name": "python3"
  },
  "language_info": {
   "codemirror_mode": {
    "name": "ipython",
    "version": 3
   },
   "file_extension": ".py",
   "mimetype": "text/x-python",
   "name": "python",
   "nbconvert_exporter": "python",
   "pygments_lexer": "ipython3",
   "version": "3.10.5"
  },
  "orig_nbformat": 4,
  "vscode": {
   "interpreter": {
    "hash": "20f41df98effd15f06d4e474c8de9a0a2663406a5adfa00ad9519be6c6092cc5"
   }
  }
 },
 "nbformat": 4,
 "nbformat_minor": 2
}
