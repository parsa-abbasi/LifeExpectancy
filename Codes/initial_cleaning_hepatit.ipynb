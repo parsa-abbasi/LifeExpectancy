{
 "cells": [
  {
   "cell_type": "code",
   "execution_count": 1,
   "metadata": {
    "collapsed": true
   },
   "outputs": [],
   "source": [
    "import pandas as pd\n",
    "import numpy as np\n",
    "from usful_functions import change_col_year_to_index"
   ]
  },
  {
   "cell_type": "code",
   "execution_count": 9,
   "metadata": {},
   "outputs": [
    {
     "data": {
      "text/html": [
       "<div>\n",
       "<style scoped>\n",
       "    .dataframe tbody tr th:only-of-type {\n",
       "        vertical-align: middle;\n",
       "    }\n",
       "\n",
       "    .dataframe tbody tr th {\n",
       "        vertical-align: top;\n",
       "    }\n",
       "\n",
       "    .dataframe thead th {\n",
       "        text-align: right;\n",
       "    }\n",
       "</style>\n",
       "<table border=\"1\" class=\"dataframe\">\n",
       "  <thead>\n",
       "    <tr style=\"text-align: right;\">\n",
       "      <th></th>\n",
       "      <th>Region, subregion, country or area *</th>\n",
       "      <th>Year</th>\n",
       "      <th>Hepatitis B (HepB3) immunization coverage among 1-year-olds (%)</th>\n",
       "    </tr>\n",
       "  </thead>\n",
       "  <tbody>\n",
       "    <tr>\n",
       "      <th>0</th>\n",
       "      <td>Papua New Guinea</td>\n",
       "      <td>2021</td>\n",
       "      <td>31</td>\n",
       "    </tr>\n",
       "    <tr>\n",
       "      <th>1</th>\n",
       "      <td>Myanmar</td>\n",
       "      <td>2021</td>\n",
       "      <td>37</td>\n",
       "    </tr>\n",
       "    <tr>\n",
       "      <th>2</th>\n",
       "      <td>Angola</td>\n",
       "      <td>2021</td>\n",
       "      <td>41</td>\n",
       "    </tr>\n",
       "    <tr>\n",
       "      <th>3</th>\n",
       "      <td>Democratic People's Republic of Korea</td>\n",
       "      <td>2021</td>\n",
       "      <td>41</td>\n",
       "    </tr>\n",
       "    <tr>\n",
       "      <th>4</th>\n",
       "      <td>Central African Republic</td>\n",
       "      <td>2021</td>\n",
       "      <td>42</td>\n",
       "    </tr>\n",
       "  </tbody>\n",
       "</table>\n",
       "</div>"
      ],
      "text/plain": [
       "    Region, subregion, country or area *  Year  \\\n",
       "0                       Papua New Guinea  2021   \n",
       "1                                Myanmar  2021   \n",
       "2                                 Angola  2021   \n",
       "3  Democratic People's Republic of Korea  2021   \n",
       "4               Central African Republic  2021   \n",
       "\n",
       "   Hepatitis B (HepB3) immunization coverage among 1-year-olds (%)  \n",
       "0                                                 31                \n",
       "1                                                 37                \n",
       "2                                                 41                \n",
       "3                                                 41                \n",
       "4                                                 42                "
      ]
     },
     "metadata": {},
     "output_type": "display_data"
    }
   ],
   "source": [
    "df_pure_hepatit = pd.read_csv('../data/hepatit.csv')\n",
    "value_name = df_pure_hepatit['Indicator'].unique()\n",
    "value_name = value_name[0]\n",
    "\n",
    "df_pure_hepatit = df_pure_hepatit.drop(['IndicatorCode', 'Indicator', 'ParentLocation'], axis=1)\n",
    "df_pure_hepatit.rename(columns={'Location': \"Region, subregion, country or area *\",\n",
    "                                \"Period\": \"Year\",\n",
    "                                \"Value\": value_name}, inplace=True)\n",
    "display(df_pure_hepatit.head())\n",
    "# insert into csv\n",
    "df_pure_hepatit.to_csv('../data/initial_cleaning/initial_cleaning_hepatit.csv', index=False)\n"
   ]
  }
 ],
 "metadata": {
  "kernelspec": {
   "display_name": "venv",
   "language": "python",
   "name": "python3"
  },
  "language_info": {
   "codemirror_mode": {
    "name": "ipython",
    "version": 3
   },
   "file_extension": ".py",
   "mimetype": "text/x-python",
   "name": "python",
   "nbconvert_exporter": "python",
   "pygments_lexer": "ipython3",
   "version": "3.10.5"
  },
  "vscode": {
   "interpreter": {
    "hash": "3c5abc1949fd4eb5a30b67ba9849e79eff0ab5ff63e84a04760f6b787d4091b9"
   }
  }
 },
 "nbformat": 4,
 "nbformat_minor": 0
}
