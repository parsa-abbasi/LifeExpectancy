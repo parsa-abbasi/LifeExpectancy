{
 "cells": [
  {
   "cell_type": "code",
   "execution_count": 1,
   "metadata": {},
   "outputs": [],
   "source": [
    "import pandas as pd\n",
    "import numpy as np\n",
    "from usful_functions import change_col_year_to_index"
   ]
  },
  {
   "cell_type": "code",
   "execution_count": 11,
   "metadata": {},
   "outputs": [
    {
     "data": {
      "text/html": [
       "<div>\n",
       "<style scoped>\n",
       "    .dataframe tbody tr th:only-of-type {\n",
       "        vertical-align: middle;\n",
       "    }\n",
       "\n",
       "    .dataframe tbody tr th {\n",
       "        vertical-align: top;\n",
       "    }\n",
       "\n",
       "    .dataframe thead th {\n",
       "        text-align: right;\n",
       "    }\n",
       "</style>\n",
       "<table border=\"1\" class=\"dataframe\">\n",
       "  <thead>\n",
       "    <tr style=\"text-align: right;\">\n",
       "      <th></th>\n",
       "      <th>ISO3 Alpha-code</th>\n",
       "      <th>Year</th>\n",
       "      <th>BMI</th>\n",
       "    </tr>\n",
       "  </thead>\n",
       "  <tbody>\n",
       "    <tr>\n",
       "      <th>160</th>\n",
       "      <td>AFR</td>\n",
       "      <td>1975</td>\n",
       "      <td>19.7</td>\n",
       "    </tr>\n",
       "    <tr>\n",
       "      <th>161</th>\n",
       "      <td>AFR</td>\n",
       "      <td>1976</td>\n",
       "      <td>19.8</td>\n",
       "    </tr>\n",
       "    <tr>\n",
       "      <th>162</th>\n",
       "      <td>AFR</td>\n",
       "      <td>1977</td>\n",
       "      <td>19.9</td>\n",
       "    </tr>\n",
       "    <tr>\n",
       "      <th>163</th>\n",
       "      <td>AFR</td>\n",
       "      <td>1978</td>\n",
       "      <td>20.1</td>\n",
       "    </tr>\n",
       "    <tr>\n",
       "      <th>164</th>\n",
       "      <td>AFR</td>\n",
       "      <td>1979</td>\n",
       "      <td>20.2</td>\n",
       "    </tr>\n",
       "  </tbody>\n",
       "</table>\n",
       "</div>"
      ],
      "text/plain": [
       "    ISO3 Alpha-code  Year   BMI\n",
       "160             AFR  1975  19.7\n",
       "161             AFR  1976  19.8\n",
       "162             AFR  1977  19.9\n",
       "163             AFR  1978  20.1\n",
       "164             AFR  1979  20.2"
      ]
     },
     "metadata": {},
     "output_type": "display_data"
    }
   ],
   "source": [
    "df_pure_bmi = pd.read_csv('../data/BMI_.csv')\n",
    "df_pure_bmi = df_pure_bmi[df_pure_bmi[\"SEX\"] == \"BTSX\"].copy()\n",
    "df_pure_bmi = df_pure_bmi.drop(columns=['Unnamed: 0', 'SpatialDimension', 'SEX']).copy()\n",
    "\n",
    "df_pure_bmi.rename(columns={\"Code\": \"ISO3 Alpha-code\",\n",
    "                            \"TimeDim\": \"Year\",\n",
    "                            \"Value\":\"BMI\"}, inplace=True)\n",
    "\n",
    "display(df_pure_bmi.head())\n",
    "df_pure_bmi.to_csv('../data/initial_cleaning/initial_cleaning_bmi.csv', index=False)\n"
   ]
  },
  {
   "cell_type": "code",
   "execution_count": null,
   "metadata": {},
   "outputs": [],
   "source": []
  }
 ],
 "metadata": {
  "kernelspec": {
   "display_name": "Python 3",
   "language": "python",
   "name": "python3"
  },
  "language_info": {
   "codemirror_mode": {
    "name": "ipython",
    "version": 3
   },
   "file_extension": ".py",
   "mimetype": "text/x-python",
   "name": "python",
   "nbconvert_exporter": "python",
   "pygments_lexer": "ipython3",
   "version": "3.10.5"
  },
  "orig_nbformat": 4,
  "vscode": {
   "interpreter": {
    "hash": "20f41df98effd15f06d4e474c8de9a0a2663406a5adfa00ad9519be6c6092cc5"
   }
  }
 },
 "nbformat": 4,
 "nbformat_minor": 2
}
