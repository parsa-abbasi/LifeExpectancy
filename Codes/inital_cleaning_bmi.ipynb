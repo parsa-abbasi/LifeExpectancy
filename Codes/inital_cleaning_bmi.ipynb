{
 "cells": [
  {
   "cell_type": "code",
   "execution_count": 2,
   "metadata": {},
   "outputs": [],
   "source": [
    "import pandas as pd\n",
    "import numpy as np\n",
    "from usful_functions import change_col_year_to_index"
   ]
  },
  {
   "cell_type": "code",
   "execution_count": 7,
   "metadata": {},
   "outputs": [],
   "source": [
    "df_pure_bmi = pd.read_csv('../data/BMI_.csv')\n",
    "df_pure_bmi = df_pure_bmi[df_pure_bmi[\"SEX\"] == \"BTSX\"].copy()\n",
    "df_pure_bmi = df_pure_bmi.drop(columns=['Unnamed: 0', 'SpatialDimension', 'SEX']).copy()\n",
    "\n",
    "df_pure_bmi.rename(columns={\"Code\": \"ISO3 Alpha-code\",\n",
    "                            \"TimeDim\": \"Year\",\n",
    "                            \"Value\":\"BMI\"}, inplace=True)\n",
    "\n",
    "\n",
    "df_bmi_info = pd.read_csv('../data/bmi_COUNTRY.csv')\n",
    "\n",
    "df_bmi_info.drop(columns=['Dimension', 'ParentDimension', 'ParentCode', 'ParentTitle'], inplace=True)\n",
    "df_bmi_info.rename(columns={\"Code\": \"ISO3 Alpha-code\", \"Title\": \"Region, subregion, country or area *\"}, inplace=True)\n",
    "\n",
    "df_clean_bmi = pd.merge(df_pure_bmi, df_bmi_info, on='ISO3 Alpha-code', how='left')\n",
    "df_clean_bmi = df_clean_bmi[[\"Region, subregion, country or area *\", \"ISO3 Alpha-code\", \"Year\", \"BMI\"]].copy()\n",
    "\n",
    "df_clean_bmi.to_csv('../data/initial_cleaning/initial_cleaning_bmi.csv', index=False)\n"
   ]
  },
  {
   "cell_type": "code",
   "execution_count": null,
   "metadata": {},
   "outputs": [],
   "source": []
  }
 ],
 "metadata": {
  "kernelspec": {
   "display_name": "Python 3",
   "language": "python",
   "name": "python3"
  },
  "language_info": {
   "codemirror_mode": {
    "name": "ipython",
    "version": 3
   },
   "file_extension": ".py",
   "mimetype": "text/x-python",
   "name": "python",
   "nbconvert_exporter": "python",
   "pygments_lexer": "ipython3",
   "version": "3.10.5"
  },
  "orig_nbformat": 4,
  "vscode": {
   "interpreter": {
    "hash": "20f41df98effd15f06d4e474c8de9a0a2663406a5adfa00ad9519be6c6092cc5"
   }
  }
 },
 "nbformat": 4,
 "nbformat_minor": 2
}
