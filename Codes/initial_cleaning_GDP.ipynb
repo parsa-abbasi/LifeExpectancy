{
 "cells": [
  {
   "cell_type": "code",
   "execution_count": 1,
   "metadata": {
    "collapsed": true
   },
   "outputs": [],
   "source": [
    "import pandas as pd\n",
    "import numpy as np\n",
    "from usful_functions import change_col_year_to_index"
   ]
  },
  {
   "cell_type": "code",
   "execution_count": 6,
   "metadata": {},
   "outputs": [],
   "source": [
    "df_pure_gdp = pd.read_csv('../data/GDPPC1.csv')\n",
    "df_pure_gdp = df_pure_gdp.drop(['Indicator Name', 'Indicator Code'], axis=1)\n",
    "df_pure_gdp.head()\n",
    "df_cleaned_gdp = change_col_year_to_index(df_pure_gdp, ['Country Name', 'Country Code'])\n",
    "\n",
    "# insert into csv\n",
    "df_cleaned_gdp.to_csv('../data/initial_cleaning/initial_cleaning_gdp.csv')"
   ]
  }
 ],
 "metadata": {
  "kernelspec": {
   "display_name": "venv",
   "language": "python",
   "name": "python3"
  },
  "language_info": {
   "codemirror_mode": {
    "name": "ipython",
    "version": 3
   },
   "file_extension": ".py",
   "mimetype": "text/x-python",
   "name": "python",
   "nbconvert_exporter": "python",
   "pygments_lexer": "ipython3",
   "version": "3.10.5"
  },
  "vscode": {
   "interpreter": {
    "hash": "3c5abc1949fd4eb5a30b67ba9849e79eff0ab5ff63e84a04760f6b787d4091b9"
   }
  }
 },
 "nbformat": 4,
 "nbformat_minor": 0
}
