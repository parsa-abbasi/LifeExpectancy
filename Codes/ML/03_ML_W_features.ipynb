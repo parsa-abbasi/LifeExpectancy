{
 "cells": [
  {
   "attachments": {},
   "cell_type": "markdown",
   "metadata": {},
   "source": [
    "# مدل سازی با استفاده از ویژگی ها اضافی"
   ]
  },
  {
   "attachments": {},
   "cell_type": "markdown",
   "metadata": {},
   "source": [
    "## وارد کردن کتابخانه ها"
   ]
  },
  {
   "cell_type": "code",
   "execution_count": 1,
   "metadata": {},
   "outputs": [],
   "source": [
    "import pandas as pd\n",
    "import numpy as np\n",
    "import matplotlib.pyplot as plt\n",
    "import seaborn as sns\n",
    "import h2o\n",
    "from h2o.estimators.gbm import H2OGradientBoostingEstimator\n",
    "from h2o.grid.grid_search import H2OGridSearch\n",
    "import warnings\n",
    "\n",
    "warnings.filterwarnings('ignore')"
   ]
  },
  {
   "attachments": {},
   "cell_type": "markdown",
   "metadata": {},
   "source": [
    "## استارت h2o"
   ]
  },
  {
   "cell_type": "code",
   "execution_count": 2,
   "metadata": {},
   "outputs": [
    {
     "name": "stdout",
     "output_type": "stream",
     "text": [
      "Checking whether there is an H2O instance running at http://localhost:54321..... not found.\n",
      "Attempting to start a local H2O server...\n",
      "; Java HotSpot(TM) 64-Bit Server VM (build 17.0.6+9-LTS-190, mixed mode, sharing)\n",
      "  Starting server from D:\\Projects\\LifeExpectancy\\venv\\Lib\\site-packages\\h2o\\backend\\bin\\h2o.jar\n",
      "  Ice root: C:\\Users\\amira\\AppData\\Local\\Temp\\tmpt1gif4hg\n",
      "  JVM stdout: C:\\Users\\amira\\AppData\\Local\\Temp\\tmpt1gif4hg\\h2o_amira_started_from_python.out\n",
      "  JVM stderr: C:\\Users\\amira\\AppData\\Local\\Temp\\tmpt1gif4hg\\h2o_amira_started_from_python.err\n",
      "  Server is running at http://127.0.0.1:54321\n",
      "Connecting to H2O server at http://127.0.0.1:54321 ... successful.\n"
     ]
    },
    {
     "data": {
      "text/html": [
       "\n",
       "<style>\n",
       "\n",
       "#h2o-table-1.h2o-container {\n",
       "  overflow-x: auto;\n",
       "}\n",
       "#h2o-table-1 .h2o-table {\n",
       "  /* width: 100%; */\n",
       "  margin-top: 1em;\n",
       "  margin-bottom: 1em;\n",
       "}\n",
       "#h2o-table-1 .h2o-table caption {\n",
       "  white-space: nowrap;\n",
       "  caption-side: top;\n",
       "  text-align: left;\n",
       "  /* margin-left: 1em; */\n",
       "  margin: 0;\n",
       "  font-size: larger;\n",
       "}\n",
       "#h2o-table-1 .h2o-table thead {\n",
       "  white-space: nowrap; \n",
       "  position: sticky;\n",
       "  top: 0;\n",
       "  box-shadow: 0 -1px inset;\n",
       "}\n",
       "#h2o-table-1 .h2o-table tbody {\n",
       "  overflow: auto;\n",
       "}\n",
       "#h2o-table-1 .h2o-table th,\n",
       "#h2o-table-1 .h2o-table td {\n",
       "  text-align: right;\n",
       "  /* border: 1px solid; */\n",
       "}\n",
       "#h2o-table-1 .h2o-table tr:nth-child(even) {\n",
       "  /* background: #F5F5F5 */\n",
       "}\n",
       "\n",
       "</style>      \n",
       "<div id=\"h2o-table-1\" class=\"h2o-container\">\n",
       "  <table class=\"h2o-table\">\n",
       "    <caption></caption>\n",
       "    <thead></thead>\n",
       "    <tbody><tr><td>H2O_cluster_uptime:</td>\n",
       "<td>06 secs</td></tr>\n",
       "<tr><td>H2O_cluster_timezone:</td>\n",
       "<td>Asia/Tehran</td></tr>\n",
       "<tr><td>H2O_data_parsing_timezone:</td>\n",
       "<td>UTC</td></tr>\n",
       "<tr><td>H2O_cluster_version:</td>\n",
       "<td>3.40.0.1</td></tr>\n",
       "<tr><td>H2O_cluster_version_age:</td>\n",
       "<td>10 days</td></tr>\n",
       "<tr><td>H2O_cluster_name:</td>\n",
       "<td>H2O_from_python_amira_uwflof</td></tr>\n",
       "<tr><td>H2O_cluster_total_nodes:</td>\n",
       "<td>1</td></tr>\n",
       "<tr><td>H2O_cluster_free_memory:</td>\n",
       "<td>1.975 Gb</td></tr>\n",
       "<tr><td>H2O_cluster_total_cores:</td>\n",
       "<td>8</td></tr>\n",
       "<tr><td>H2O_cluster_allowed_cores:</td>\n",
       "<td>8</td></tr>\n",
       "<tr><td>H2O_cluster_status:</td>\n",
       "<td>locked, healthy</td></tr>\n",
       "<tr><td>H2O_connection_url:</td>\n",
       "<td>http://127.0.0.1:54321</td></tr>\n",
       "<tr><td>H2O_connection_proxy:</td>\n",
       "<td>{\"http\": null, \"https\": null}</td></tr>\n",
       "<tr><td>H2O_internal_security:</td>\n",
       "<td>False</td></tr>\n",
       "<tr><td>Python_version:</td>\n",
       "<td>3.10.5 final</td></tr></tbody>\n",
       "  </table>\n",
       "</div>\n"
      ],
      "text/plain": [
       "--------------------------  -----------------------------\n",
       "H2O_cluster_uptime:         06 secs\n",
       "H2O_cluster_timezone:       Asia/Tehran\n",
       "H2O_data_parsing_timezone:  UTC\n",
       "H2O_cluster_version:        3.40.0.1\n",
       "H2O_cluster_version_age:    10 days\n",
       "H2O_cluster_name:           H2O_from_python_amira_uwflof\n",
       "H2O_cluster_total_nodes:    1\n",
       "H2O_cluster_free_memory:    1.975 Gb\n",
       "H2O_cluster_total_cores:    8\n",
       "H2O_cluster_allowed_cores:  8\n",
       "H2O_cluster_status:         locked, healthy\n",
       "H2O_connection_url:         http://127.0.0.1:54321\n",
       "H2O_connection_proxy:       {\"http\": null, \"https\": null}\n",
       "H2O_internal_security:      False\n",
       "Python_version:             3.10.5 final\n",
       "--------------------------  -----------------------------"
      ]
     },
     "metadata": {},
     "output_type": "display_data"
    }
   ],
   "source": [
    "h2o.init()"
   ]
  },
  {
   "attachments": {},
   "cell_type": "markdown",
   "metadata": {},
   "source": [
    "## خواندن دیتا"
   ]
  },
  {
   "cell_type": "code",
   "execution_count": 3,
   "metadata": {},
   "outputs": [
    {
     "name": "stdout",
     "output_type": "stream",
     "text": [
      "Parse progress: |████████████████████████████████████████████████████████████████| (done) 100%\n"
     ]
    },
    {
     "data": {
      "text/html": [
       "<table class='dataframe'>\n",
       "<thead>\n",
       "<tr><th>Country  </th><th>subregion     </th><th>region  </th><th style=\"text-align: right;\">  Year</th><th style=\"text-align: right;\">  Births (thousands)</th><th style=\"text-align: right;\">  Population Density, as of 1 July (persons per square km)</th><th style=\"text-align: right;\">  Population Sex Ratio, as of 1 July (males per 100 females)</th><th style=\"text-align: right;\">  Population Growth Rate (percentage)</th><th style=\"text-align: right;\">  Rate of Natural Change (per 1,000 population)</th><th style=\"text-align: right;\">  Crude Birth Rate (births per 1,000 population)</th><th style=\"text-align: right;\">  Mean Age Childbearing (years)</th><th style=\"text-align: right;\">  Sex Ratio at Birth (males per 100 female births)</th><th style=\"text-align: right;\">  Crude Death Rate (deaths per 1,000 population)</th><th style=\"text-align: right;\">  Under-Five Deaths, under age 5 (thousands)</th><th style=\"text-align: right;\">  Net Number of Migrants (thousands)</th><th style=\"text-align: right;\">  Net Migration Rate (per 1,000 population)</th><th style=\"text-align: right;\">  GDP</th><th style=\"text-align: right;\">  Educated_Population</th><th style=\"text-align: right;\">  Suicide</th><th style=\"text-align: right;\">  HIV</th><th style=\"text-align: right;\">  BMI</th><th style=\"text-align: right;\">  darmani*</th><th style=\"text-align: right;\">  Estimated road traffic death rate (per 100 000 population)</th><th style=\"text-align: right;\">  Hepatitis B (HepB3) immunization coverage among 1-year-olds (%)</th><th style=\"text-align: right;\">  Life Expectancy at Birth, both sexes (years)</th></tr>\n",
       "</thead>\n",
       "<tbody>\n",
       "<tr><td>Burundi  </td><td>Eastern Africa</td><td>AFRICA  </td><td style=\"text-align: right;\">  1950</td><td style=\"text-align: right;\">             116.224</td><td style=\"text-align: right;\">                                                    86.864</td><td style=\"text-align: right;\">                                                      91.947</td><td style=\"text-align: right;\">                                2.2  </td><td style=\"text-align: right;\">                                         27.788</td><td style=\"text-align: right;\">                                          51.334</td><td style=\"text-align: right;\">                         30.995</td><td style=\"text-align: right;\">                                             102.5</td><td style=\"text-align: right;\">                                          23.546</td><td style=\"text-align: right;\">                                      29.001</td><td style=\"text-align: right;\">                             -13.343</td><td style=\"text-align: right;\">                                     -5.893</td><td style=\"text-align: right;\">  nan</td><td style=\"text-align: right;\">                  nan</td><td style=\"text-align: right;\">      nan</td><td style=\"text-align: right;\">  nan</td><td style=\"text-align: right;\">  nan</td><td style=\"text-align: right;\">       nan</td><td style=\"text-align: right;\">                                                         nan</td><td style=\"text-align: right;\">                                                              nan</td><td style=\"text-align: right;\">                                        40.579</td></tr>\n",
       "<tr><td>Burundi  </td><td>Eastern Africa</td><td>AFRICA  </td><td style=\"text-align: right;\">  1951</td><td style=\"text-align: right;\">             117.067</td><td style=\"text-align: right;\">                                                    88.757</td><td style=\"text-align: right;\">                                                      92.145</td><td style=\"text-align: right;\">                                2.114</td><td style=\"text-align: right;\">                                         26.799</td><td style=\"text-align: right;\">                                          50.678</td><td style=\"text-align: right;\">                         30.996</td><td style=\"text-align: right;\">                                             102.5</td><td style=\"text-align: right;\">                                          23.879</td><td style=\"text-align: right;\">                                      30.669</td><td style=\"text-align: right;\">                             -13.217</td><td style=\"text-align: right;\">                                     -5.721</td><td style=\"text-align: right;\">  nan</td><td style=\"text-align: right;\">                  nan</td><td style=\"text-align: right;\">      nan</td><td style=\"text-align: right;\">  nan</td><td style=\"text-align: right;\">  nan</td><td style=\"text-align: right;\">       nan</td><td style=\"text-align: right;\">                                                         nan</td><td style=\"text-align: right;\">                                                              nan</td><td style=\"text-align: right;\">                                        40.812</td></tr>\n",
       "<tr><td>Burundi  </td><td>Eastern Africa</td><td>AFRICA  </td><td style=\"text-align: right;\">  1952</td><td style=\"text-align: right;\">             117.77 </td><td style=\"text-align: right;\">                                                    90.618</td><td style=\"text-align: right;\">                                                      92.319</td><td style=\"text-align: right;\">                                2.036</td><td style=\"text-align: right;\">                                         26.118</td><td style=\"text-align: right;\">                                          49.933</td><td style=\"text-align: right;\">                         31.026</td><td style=\"text-align: right;\">                                             102.5</td><td style=\"text-align: right;\">                                          23.815</td><td style=\"text-align: right;\">                                      31.272</td><td style=\"text-align: right;\">                             -13.715</td><td style=\"text-align: right;\">                                     -5.815</td><td style=\"text-align: right;\">  nan</td><td style=\"text-align: right;\">                  nan</td><td style=\"text-align: right;\">      nan</td><td style=\"text-align: right;\">  nan</td><td style=\"text-align: right;\">  nan</td><td style=\"text-align: right;\">       nan</td><td style=\"text-align: right;\">                                                         nan</td><td style=\"text-align: right;\">                                                              nan</td><td style=\"text-align: right;\">                                        41.003</td></tr>\n",
       "<tr><td>Burundi  </td><td>Eastern Africa</td><td>AFRICA  </td><td style=\"text-align: right;\">  1953</td><td style=\"text-align: right;\">             119.013</td><td style=\"text-align: right;\">                                                    92.451</td><td style=\"text-align: right;\">                                                      92.488</td><td style=\"text-align: right;\">                                1.969</td><td style=\"text-align: right;\">                                         25.844</td><td style=\"text-align: right;\">                                          49.448</td><td style=\"text-align: right;\">                         31.03 </td><td style=\"text-align: right;\">                                             102.5</td><td style=\"text-align: right;\">                                          23.604</td><td style=\"text-align: right;\">                                      31.644</td><td style=\"text-align: right;\">                             -14.962</td><td style=\"text-align: right;\">                                     -6.216</td><td style=\"text-align: right;\">  nan</td><td style=\"text-align: right;\">                  nan</td><td style=\"text-align: right;\">      nan</td><td style=\"text-align: right;\">  nan</td><td style=\"text-align: right;\">  nan</td><td style=\"text-align: right;\">       nan</td><td style=\"text-align: right;\">                                                         nan</td><td style=\"text-align: right;\">                                                              nan</td><td style=\"text-align: right;\">                                        41.282</td></tr>\n",
       "<tr><td>Burundi  </td><td>Eastern Africa</td><td>AFRICA  </td><td style=\"text-align: right;\">  1954</td><td style=\"text-align: right;\">             119.972</td><td style=\"text-align: right;\">                                                    94.287</td><td style=\"text-align: right;\">                                                      92.65 </td><td style=\"text-align: right;\">                                1.965</td><td style=\"text-align: right;\">                                         25.536</td><td style=\"text-align: right;\">                                          48.883</td><td style=\"text-align: right;\">                         31.036</td><td style=\"text-align: right;\">                                             102.5</td><td style=\"text-align: right;\">                                          23.347</td><td style=\"text-align: right;\">                                      31.915</td><td style=\"text-align: right;\">                             -14.599</td><td style=\"text-align: right;\">                                     -5.948</td><td style=\"text-align: right;\">  nan</td><td style=\"text-align: right;\">                  nan</td><td style=\"text-align: right;\">      nan</td><td style=\"text-align: right;\">  nan</td><td style=\"text-align: right;\">  nan</td><td style=\"text-align: right;\">       nan</td><td style=\"text-align: right;\">                                                         nan</td><td style=\"text-align: right;\">                                                              nan</td><td style=\"text-align: right;\">                                        41.558</td></tr>\n",
       "<tr><td>Burundi  </td><td>Eastern Africa</td><td>AFRICA  </td><td style=\"text-align: right;\">  1955</td><td style=\"text-align: right;\">             121.13 </td><td style=\"text-align: right;\">                                                    96.154</td><td style=\"text-align: right;\">                                                      92.806</td><td style=\"text-align: right;\">                                1.956</td><td style=\"text-align: right;\">                                         25.36 </td><td style=\"text-align: right;\">                                          48.399</td><td style=\"text-align: right;\">                         31.063</td><td style=\"text-align: right;\">                                             102.5</td><td style=\"text-align: right;\">                                          23.039</td><td style=\"text-align: right;\">                                      31.984</td><td style=\"text-align: right;\">                             -14.669</td><td style=\"text-align: right;\">                                     -5.861</td><td style=\"text-align: right;\">  nan</td><td style=\"text-align: right;\">                  nan</td><td style=\"text-align: right;\">      nan</td><td style=\"text-align: right;\">  nan</td><td style=\"text-align: right;\">  nan</td><td style=\"text-align: right;\">       nan</td><td style=\"text-align: right;\">                                                         nan</td><td style=\"text-align: right;\">                                                              nan</td><td style=\"text-align: right;\">                                        41.855</td></tr>\n",
       "<tr><td>Burundi  </td><td>Eastern Africa</td><td>AFRICA  </td><td style=\"text-align: right;\">  1956</td><td style=\"text-align: right;\">             122.196</td><td style=\"text-align: right;\">                                                    98.045</td><td style=\"text-align: right;\">                                                      92.956</td><td style=\"text-align: right;\">                                1.939</td><td style=\"text-align: right;\">                                         25.101</td><td style=\"text-align: right;\">                                          47.885</td><td style=\"text-align: right;\">                         31.073</td><td style=\"text-align: right;\">                                             102.5</td><td style=\"text-align: right;\">                                          22.784</td><td style=\"text-align: right;\">                                      31.908</td><td style=\"text-align: right;\">                             -14.733</td><td style=\"text-align: right;\">                                     -5.773</td><td style=\"text-align: right;\">  nan</td><td style=\"text-align: right;\">                  nan</td><td style=\"text-align: right;\">      nan</td><td style=\"text-align: right;\">  nan</td><td style=\"text-align: right;\">  nan</td><td style=\"text-align: right;\">       nan</td><td style=\"text-align: right;\">                                                         nan</td><td style=\"text-align: right;\">                                                              nan</td><td style=\"text-align: right;\">                                        42.059</td></tr>\n",
       "<tr><td>Burundi  </td><td>Eastern Africa</td><td>AFRICA  </td><td style=\"text-align: right;\">  1957</td><td style=\"text-align: right;\">             123.309</td><td style=\"text-align: right;\">                                                    99.955</td><td style=\"text-align: right;\">                                                      93.106</td><td style=\"text-align: right;\">                                1.921</td><td style=\"text-align: right;\">                                         24.93 </td><td style=\"text-align: right;\">                                          47.398</td><td style=\"text-align: right;\">                         31.086</td><td style=\"text-align: right;\">                                             102.5</td><td style=\"text-align: right;\">                                          22.468</td><td style=\"text-align: right;\">                                      31.831</td><td style=\"text-align: right;\">                             -15.021</td><td style=\"text-align: right;\">                                     -5.774</td><td style=\"text-align: right;\">  nan</td><td style=\"text-align: right;\">                  nan</td><td style=\"text-align: right;\">      nan</td><td style=\"text-align: right;\">  nan</td><td style=\"text-align: right;\">  nan</td><td style=\"text-align: right;\">       nan</td><td style=\"text-align: right;\">                                                         nan</td><td style=\"text-align: right;\">                                                              nan</td><td style=\"text-align: right;\">                                        42.329</td></tr>\n",
       "<tr><td>Burundi  </td><td>Eastern Africa</td><td>AFRICA  </td><td style=\"text-align: right;\">  1958</td><td style=\"text-align: right;\">             124.674</td><td style=\"text-align: right;\">                                                   101.856</td><td style=\"text-align: right;\">                                                      93.25 </td><td style=\"text-align: right;\">                                1.846</td><td style=\"text-align: right;\">                                         24.828</td><td style=\"text-align: right;\">                                          47.013</td><td style=\"text-align: right;\">                         31.125</td><td style=\"text-align: right;\">                                             102.5</td><td style=\"text-align: right;\">                                          22.185</td><td style=\"text-align: right;\">                                      31.769</td><td style=\"text-align: right;\">                             -17.047</td><td style=\"text-align: right;\">                                     -6.428</td><td style=\"text-align: right;\">  nan</td><td style=\"text-align: right;\">                  nan</td><td style=\"text-align: right;\">      nan</td><td style=\"text-align: right;\">  nan</td><td style=\"text-align: right;\">  nan</td><td style=\"text-align: right;\">       nan</td><td style=\"text-align: right;\">                                                         nan</td><td style=\"text-align: right;\">                                                              nan</td><td style=\"text-align: right;\">                                        42.559</td></tr>\n",
       "<tr><td>Burundi  </td><td>Eastern Africa</td><td>AFRICA  </td><td style=\"text-align: right;\">  1959</td><td style=\"text-align: right;\">             126.251</td><td style=\"text-align: right;\">                                                   103.801</td><td style=\"text-align: right;\">                                                      93.392</td><td style=\"text-align: right;\">                                1.937</td><td style=\"text-align: right;\">                                         24.801</td><td style=\"text-align: right;\">                                          46.736</td><td style=\"text-align: right;\">                         31.151</td><td style=\"text-align: right;\">                                             102.5</td><td style=\"text-align: right;\">                                          21.935</td><td style=\"text-align: right;\">                                      31.804</td><td style=\"text-align: right;\">                             -14.813</td><td style=\"text-align: right;\">                                     -5.483</td><td style=\"text-align: right;\">  nan</td><td style=\"text-align: right;\">                  nan</td><td style=\"text-align: right;\">      nan</td><td style=\"text-align: right;\">  nan</td><td style=\"text-align: right;\">  nan</td><td style=\"text-align: right;\">       nan</td><td style=\"text-align: right;\">                                                         nan</td><td style=\"text-align: right;\">                                                              nan</td><td style=\"text-align: right;\">                                        42.779</td></tr>\n",
       "</tbody>\n",
       "</table><pre style='font-size: smaller; margin-bottom: 1em;'>[26672 rows x 25 columns]</pre>"
      ],
      "text/plain": [
       "Country    subregion       region      Year    Births (thousands)    Population Density, as of 1 July (persons per square km)    Population Sex Ratio, as of 1 July (males per 100 females)    Population Growth Rate (percentage)    Rate of Natural Change (per 1,000 population)    Crude Birth Rate (births per 1,000 population)    Mean Age Childbearing (years)    Sex Ratio at Birth (males per 100 female births)    Crude Death Rate (deaths per 1,000 population)    Under-Five Deaths, under age 5 (thousands)    Net Number of Migrants (thousands)    Net Migration Rate (per 1,000 population)    GDP    Educated_Population    Suicide    HIV    BMI    darmani*    Estimated road traffic death rate (per 100 000 population)    Hepatitis B (HepB3) immunization coverage among 1-year-olds (%)    Life Expectancy at Birth, both sexes (years)\n",
       "---------  --------------  --------  ------  --------------------  ----------------------------------------------------------  ------------------------------------------------------------  -------------------------------------  -----------------------------------------------  ------------------------------------------------  -------------------------------  --------------------------------------------------  ------------------------------------------------  --------------------------------------------  ------------------------------------  -------------------------------------------  -----  ---------------------  ---------  -----  -----  ----------  ------------------------------------------------------------  -----------------------------------------------------------------  ----------------------------------------------\n",
       "Burundi    Eastern Africa  AFRICA      1950               116.224                                                      86.864                                                        91.947                                  2.2                                             27.788                                            51.334                           30.995                                               102.5                                            23.546                                        29.001                               -13.343                                       -5.893    nan                    nan        nan    nan    nan         nan                                                           nan                                                                nan                                          40.579\n",
       "Burundi    Eastern Africa  AFRICA      1951               117.067                                                      88.757                                                        92.145                                  2.114                                           26.799                                            50.678                           30.996                                               102.5                                            23.879                                        30.669                               -13.217                                       -5.721    nan                    nan        nan    nan    nan         nan                                                           nan                                                                nan                                          40.812\n",
       "Burundi    Eastern Africa  AFRICA      1952               117.77                                                       90.618                                                        92.319                                  2.036                                           26.118                                            49.933                           31.026                                               102.5                                            23.815                                        31.272                               -13.715                                       -5.815    nan                    nan        nan    nan    nan         nan                                                           nan                                                                nan                                          41.003\n",
       "Burundi    Eastern Africa  AFRICA      1953               119.013                                                      92.451                                                        92.488                                  1.969                                           25.844                                            49.448                           31.03                                                102.5                                            23.604                                        31.644                               -14.962                                       -6.216    nan                    nan        nan    nan    nan         nan                                                           nan                                                                nan                                          41.282\n",
       "Burundi    Eastern Africa  AFRICA      1954               119.972                                                      94.287                                                        92.65                                   1.965                                           25.536                                            48.883                           31.036                                               102.5                                            23.347                                        31.915                               -14.599                                       -5.948    nan                    nan        nan    nan    nan         nan                                                           nan                                                                nan                                          41.558\n",
       "Burundi    Eastern Africa  AFRICA      1955               121.13                                                       96.154                                                        92.806                                  1.956                                           25.36                                             48.399                           31.063                                               102.5                                            23.039                                        31.984                               -14.669                                       -5.861    nan                    nan        nan    nan    nan         nan                                                           nan                                                                nan                                          41.855\n",
       "Burundi    Eastern Africa  AFRICA      1956               122.196                                                      98.045                                                        92.956                                  1.939                                           25.101                                            47.885                           31.073                                               102.5                                            22.784                                        31.908                               -14.733                                       -5.773    nan                    nan        nan    nan    nan         nan                                                           nan                                                                nan                                          42.059\n",
       "Burundi    Eastern Africa  AFRICA      1957               123.309                                                      99.955                                                        93.106                                  1.921                                           24.93                                             47.398                           31.086                                               102.5                                            22.468                                        31.831                               -15.021                                       -5.774    nan                    nan        nan    nan    nan         nan                                                           nan                                                                nan                                          42.329\n",
       "Burundi    Eastern Africa  AFRICA      1958               124.674                                                     101.856                                                        93.25                                   1.846                                           24.828                                            47.013                           31.125                                               102.5                                            22.185                                        31.769                               -17.047                                       -6.428    nan                    nan        nan    nan    nan         nan                                                           nan                                                                nan                                          42.559\n",
       "Burundi    Eastern Africa  AFRICA      1959               126.251                                                     103.801                                                        93.392                                  1.937                                           24.801                                            46.736                           31.151                                               102.5                                            21.935                                        31.804                               -14.813                                       -5.483    nan                    nan        nan    nan    nan         nan                                                           nan                                                                nan                                          42.779\n",
       "[26672 rows x 25 columns]\n"
      ]
     },
     "execution_count": 3,
     "metadata": {},
     "output_type": "execute_result"
    }
   ],
   "source": [
    "data = h2o.import_file('../../data/ML_Data/Data_2031.csv')\n",
    "\n",
    "data = data.drop(['ISO3 Alpha-code'])\n",
    "data"
   ]
  },
  {
   "attachments": {},
   "cell_type": "markdown",
   "metadata": {},
   "source": [
    "## جدا سازی داده های تست و ولیدیشن و آموزش"
   ]
  },
  {
   "cell_type": "code",
   "execution_count": 4,
   "metadata": {},
   "outputs": [],
   "source": [
    "test = data[data[\"Year\"] > 2021]\n",
    "train_val_data = data[data[\"Year\"] <= 2021]\n",
    "\n",
    "x = train_val_data.columns\n",
    "y = 'Life Expectancy at Birth, both sexes (years)'\n",
    "x.remove(y)\n",
    "\n",
    "ss = data.split_frame(seed=1)\n",
    "train = ss[0]\n",
    "valid = ss[1]"
   ]
  },
  {
   "attachments": {},
   "cell_type": "markdown",
   "metadata": {},
   "source": [
    "## مشخص کردن هایپر پارامترها"
   ]
  },
  {
   "cell_type": "code",
   "execution_count": 5,
   "metadata": {},
   "outputs": [],
   "source": [
    "drf_params1 = {'ntrees': [50, 75, 100],\n",
    "             'max_depth': [5, 10, 15],\n",
    "             'min_rows': [1, 5]}\n",
    "\n",
    "drf_grid1 = H2OGridSearch(model=H2OGradientBoostingEstimator,\n",
    "                          grid_id='drf_grid1',\n",
    "                          hyper_params=drf_params1)"
   ]
  },
  {
   "attachments": {},
   "cell_type": "markdown",
   "metadata": {},
   "source": [
    "## آموزش مدل"
   ]
  },
  {
   "cell_type": "code",
   "execution_count": 6,
   "metadata": {},
   "outputs": [
    {
     "name": "stdout",
     "output_type": "stream",
     "text": [
      "gbm Grid Build progress: |███████████████████████████████████████████████████████| (done) 100%\n"
     ]
    },
    {
     "data": {
      "text/html": [
       "\n",
       "<style>\n",
       "\n",
       "#h2o-table-2.h2o-container {\n",
       "  overflow-x: auto;\n",
       "}\n",
       "#h2o-table-2 .h2o-table {\n",
       "  /* width: 100%; */\n",
       "  margin-top: 1em;\n",
       "  margin-bottom: 1em;\n",
       "}\n",
       "#h2o-table-2 .h2o-table caption {\n",
       "  white-space: nowrap;\n",
       "  caption-side: top;\n",
       "  text-align: left;\n",
       "  /* margin-left: 1em; */\n",
       "  margin: 0;\n",
       "  font-size: larger;\n",
       "}\n",
       "#h2o-table-2 .h2o-table thead {\n",
       "  white-space: nowrap; \n",
       "  position: sticky;\n",
       "  top: 0;\n",
       "  box-shadow: 0 -1px inset;\n",
       "}\n",
       "#h2o-table-2 .h2o-table tbody {\n",
       "  overflow: auto;\n",
       "}\n",
       "#h2o-table-2 .h2o-table th,\n",
       "#h2o-table-2 .h2o-table td {\n",
       "  text-align: right;\n",
       "  /* border: 1px solid; */\n",
       "}\n",
       "#h2o-table-2 .h2o-table tr:nth-child(even) {\n",
       "  /* background: #F5F5F5 */\n",
       "}\n",
       "\n",
       "</style>      \n",
       "<div id=\"h2o-table-2\" class=\"h2o-container\">\n",
       "  <table class=\"h2o-table\">\n",
       "    <caption>Hyper-Parameter Search Summary: ordered by increasing residual_deviance</caption>\n",
       "    <thead><tr><th></th>\n",
       "<th>max_depth</th>\n",
       "<th>min_rows</th>\n",
       "<th>ntrees</th>\n",
       "<th>model_ids</th>\n",
       "<th>residual_deviance</th></tr></thead>\n",
       "    <tbody><tr><td></td>\n",
       "<td>10.0</td>\n",
       "<td>1.0</td>\n",
       "<td>100.0</td>\n",
       "<td>drf_grid1_model_14</td>\n",
       "<td>0.1712616</td></tr>\n",
       "<tr><td></td>\n",
       "<td>10.0</td>\n",
       "<td>1.0</td>\n",
       "<td>75.0</td>\n",
       "<td>drf_grid1_model_8</td>\n",
       "<td>0.1765428</td></tr>\n",
       "<tr><td></td>\n",
       "<td>10.0</td>\n",
       "<td>1.0</td>\n",
       "<td>50.0</td>\n",
       "<td>drf_grid1_model_2</td>\n",
       "<td>0.1934190</td></tr>\n",
       "<tr><td></td>\n",
       "<td>10.0</td>\n",
       "<td>5.0</td>\n",
       "<td>100.0</td>\n",
       "<td>drf_grid1_model_17</td>\n",
       "<td>0.1938433</td></tr>\n",
       "<tr><td></td>\n",
       "<td>10.0</td>\n",
       "<td>5.0</td>\n",
       "<td>75.0</td>\n",
       "<td>drf_grid1_model_11</td>\n",
       "<td>0.2017978</td></tr>\n",
       "<tr><td></td>\n",
       "<td>10.0</td>\n",
       "<td>5.0</td>\n",
       "<td>50.0</td>\n",
       "<td>drf_grid1_model_5</td>\n",
       "<td>0.2272319</td></tr>\n",
       "<tr><td></td>\n",
       "<td>15.0</td>\n",
       "<td>5.0</td>\n",
       "<td>100.0</td>\n",
       "<td>drf_grid1_model_18</td>\n",
       "<td>0.2464894</td></tr>\n",
       "<tr><td></td>\n",
       "<td>15.0</td>\n",
       "<td>5.0</td>\n",
       "<td>75.0</td>\n",
       "<td>drf_grid1_model_12</td>\n",
       "<td>0.2484443</td></tr>\n",
       "<tr><td></td>\n",
       "<td>15.0</td>\n",
       "<td>5.0</td>\n",
       "<td>50.0</td>\n",
       "<td>drf_grid1_model_6</td>\n",
       "<td>0.2645698</td></tr>\n",
       "<tr><td></td>\n",
       "<td>15.0</td>\n",
       "<td>1.0</td>\n",
       "<td>100.0</td>\n",
       "<td>drf_grid1_model_15</td>\n",
       "<td>0.3070035</td></tr>\n",
       "<tr><td></td>\n",
       "<td>15.0</td>\n",
       "<td>1.0</td>\n",
       "<td>75.0</td>\n",
       "<td>drf_grid1_model_9</td>\n",
       "<td>0.3071078</td></tr>\n",
       "<tr><td></td>\n",
       "<td>15.0</td>\n",
       "<td>1.0</td>\n",
       "<td>50.0</td>\n",
       "<td>drf_grid1_model_3</td>\n",
       "<td>0.3108182</td></tr>\n",
       "<tr><td></td>\n",
       "<td>5.0</td>\n",
       "<td>5.0</td>\n",
       "<td>100.0</td>\n",
       "<td>drf_grid1_model_16</td>\n",
       "<td>0.3470836</td></tr>\n",
       "<tr><td></td>\n",
       "<td>5.0</td>\n",
       "<td>1.0</td>\n",
       "<td>100.0</td>\n",
       "<td>drf_grid1_model_13</td>\n",
       "<td>0.3547344</td></tr>\n",
       "<tr><td></td>\n",
       "<td>5.0</td>\n",
       "<td>1.0</td>\n",
       "<td>75.0</td>\n",
       "<td>drf_grid1_model_7</td>\n",
       "<td>0.4156953</td></tr>\n",
       "<tr><td></td>\n",
       "<td>5.0</td>\n",
       "<td>5.0</td>\n",
       "<td>75.0</td>\n",
       "<td>drf_grid1_model_10</td>\n",
       "<td>0.4193326</td></tr>\n",
       "<tr><td></td>\n",
       "<td>5.0</td>\n",
       "<td>1.0</td>\n",
       "<td>50.0</td>\n",
       "<td>drf_grid1_model_1</td>\n",
       "<td>0.5413520</td></tr>\n",
       "<tr><td></td>\n",
       "<td>5.0</td>\n",
       "<td>5.0</td>\n",
       "<td>50.0</td>\n",
       "<td>drf_grid1_model_4</td>\n",
       "<td>0.5479856</td></tr></tbody>\n",
       "  </table>\n",
       "</div>\n"
      ],
      "text/plain": [
       "Hyper-Parameter Search Summary: ordered by increasing residual_deviance\n",
       "    max_depth    min_rows    ntrees    model_ids           residual_deviance\n",
       "--  -----------  ----------  --------  ------------------  -------------------\n",
       "    10           1           100       drf_grid1_model_14  0.171262\n",
       "    10           1           75        drf_grid1_model_8   0.176543\n",
       "    10           1           50        drf_grid1_model_2   0.193419\n",
       "    10           5           100       drf_grid1_model_17  0.193843\n",
       "    10           5           75        drf_grid1_model_11  0.201798\n",
       "    10           5           50        drf_grid1_model_5   0.227232\n",
       "    15           5           100       drf_grid1_model_18  0.246489\n",
       "    15           5           75        drf_grid1_model_12  0.248444\n",
       "    15           5           50        drf_grid1_model_6   0.26457\n",
       "    15           1           100       drf_grid1_model_15  0.307004\n",
       "    15           1           75        drf_grid1_model_9   0.307108\n",
       "    15           1           50        drf_grid1_model_3   0.310818\n",
       "    5            5           100       drf_grid1_model_16  0.347084\n",
       "    5            1           100       drf_grid1_model_13  0.354734\n",
       "    5            1           75        drf_grid1_model_7   0.415695\n",
       "    5            5           75        drf_grid1_model_10  0.419333\n",
       "    5            1           50        drf_grid1_model_1   0.541352\n",
       "    5            5           50        drf_grid1_model_4   0.547986"
      ]
     },
     "execution_count": 6,
     "metadata": {},
     "output_type": "execute_result"
    }
   ],
   "source": [
    "drf_grid1.train(x=x, y=y,\n",
    "                training_frame=train,\n",
    "                validation_frame=valid,\n",
    "                seed=1)"
   ]
  },
  {
   "attachments": {},
   "cell_type": "markdown",
   "metadata": {},
   "source": [
    "## مرتب کردن مدل ها بر اساس R^2"
   ]
  },
  {
   "cell_type": "code",
   "execution_count": 7,
   "metadata": {},
   "outputs": [
    {
     "data": {
      "text/html": [
       "\n",
       "<style>\n",
       "\n",
       "#h2o-table-3.h2o-container {\n",
       "  overflow-x: auto;\n",
       "}\n",
       "#h2o-table-3 .h2o-table {\n",
       "  /* width: 100%; */\n",
       "  margin-top: 1em;\n",
       "  margin-bottom: 1em;\n",
       "}\n",
       "#h2o-table-3 .h2o-table caption {\n",
       "  white-space: nowrap;\n",
       "  caption-side: top;\n",
       "  text-align: left;\n",
       "  /* margin-left: 1em; */\n",
       "  margin: 0;\n",
       "  font-size: larger;\n",
       "}\n",
       "#h2o-table-3 .h2o-table thead {\n",
       "  white-space: nowrap; \n",
       "  position: sticky;\n",
       "  top: 0;\n",
       "  box-shadow: 0 -1px inset;\n",
       "}\n",
       "#h2o-table-3 .h2o-table tbody {\n",
       "  overflow: auto;\n",
       "}\n",
       "#h2o-table-3 .h2o-table th,\n",
       "#h2o-table-3 .h2o-table td {\n",
       "  text-align: right;\n",
       "  /* border: 1px solid; */\n",
       "}\n",
       "#h2o-table-3 .h2o-table tr:nth-child(even) {\n",
       "  /* background: #F5F5F5 */\n",
       "}\n",
       "\n",
       "</style>      \n",
       "<div id=\"h2o-table-3\" class=\"h2o-container\">\n",
       "  <table class=\"h2o-table\">\n",
       "    <caption>Hyper-Parameter Search Summary: ordered by decreasing r2</caption>\n",
       "    <thead><tr><th></th>\n",
       "<th>max_depth</th>\n",
       "<th>min_rows</th>\n",
       "<th>ntrees</th>\n",
       "<th>model_ids</th>\n",
       "<th>r2</th></tr></thead>\n",
       "    <tbody><tr><td></td>\n",
       "<td>10.0</td>\n",
       "<td>1.0</td>\n",
       "<td>100.0</td>\n",
       "<td>drf_grid1_model_14</td>\n",
       "<td>0.9987280</td></tr>\n",
       "<tr><td></td>\n",
       "<td>10.0</td>\n",
       "<td>1.0</td>\n",
       "<td>75.0</td>\n",
       "<td>drf_grid1_model_8</td>\n",
       "<td>0.9986887</td></tr>\n",
       "<tr><td></td>\n",
       "<td>10.0</td>\n",
       "<td>1.0</td>\n",
       "<td>50.0</td>\n",
       "<td>drf_grid1_model_2</td>\n",
       "<td>0.9985634</td></tr>\n",
       "<tr><td></td>\n",
       "<td>10.0</td>\n",
       "<td>5.0</td>\n",
       "<td>100.0</td>\n",
       "<td>drf_grid1_model_17</td>\n",
       "<td>0.9985603</td></tr>\n",
       "<tr><td></td>\n",
       "<td>10.0</td>\n",
       "<td>5.0</td>\n",
       "<td>75.0</td>\n",
       "<td>drf_grid1_model_11</td>\n",
       "<td>0.9985012</td></tr>\n",
       "<tr><td></td>\n",
       "<td>10.0</td>\n",
       "<td>5.0</td>\n",
       "<td>50.0</td>\n",
       "<td>drf_grid1_model_5</td>\n",
       "<td>0.9983123</td></tr>\n",
       "<tr><td></td>\n",
       "<td>15.0</td>\n",
       "<td>5.0</td>\n",
       "<td>100.0</td>\n",
       "<td>drf_grid1_model_18</td>\n",
       "<td>0.9981692</td></tr>\n",
       "<tr><td></td>\n",
       "<td>15.0</td>\n",
       "<td>5.0</td>\n",
       "<td>75.0</td>\n",
       "<td>drf_grid1_model_12</td>\n",
       "<td>0.9981547</td></tr>\n",
       "<tr><td></td>\n",
       "<td>15.0</td>\n",
       "<td>5.0</td>\n",
       "<td>50.0</td>\n",
       "<td>drf_grid1_model_6</td>\n",
       "<td>0.9980349</td></tr>\n",
       "<tr><td></td>\n",
       "<td>15.0</td>\n",
       "<td>1.0</td>\n",
       "<td>100.0</td>\n",
       "<td>drf_grid1_model_15</td>\n",
       "<td>0.9977198</td></tr>\n",
       "<tr><td></td>\n",
       "<td>15.0</td>\n",
       "<td>1.0</td>\n",
       "<td>75.0</td>\n",
       "<td>drf_grid1_model_9</td>\n",
       "<td>0.9977190</td></tr>\n",
       "<tr><td></td>\n",
       "<td>15.0</td>\n",
       "<td>1.0</td>\n",
       "<td>50.0</td>\n",
       "<td>drf_grid1_model_3</td>\n",
       "<td>0.9976914</td></tr>\n",
       "<tr><td></td>\n",
       "<td>5.0</td>\n",
       "<td>5.0</td>\n",
       "<td>100.0</td>\n",
       "<td>drf_grid1_model_16</td>\n",
       "<td>0.9974221</td></tr>\n",
       "<tr><td></td>\n",
       "<td>5.0</td>\n",
       "<td>1.0</td>\n",
       "<td>100.0</td>\n",
       "<td>drf_grid1_model_13</td>\n",
       "<td>0.9973653</td></tr>\n",
       "<tr><td></td>\n",
       "<td>5.0</td>\n",
       "<td>1.0</td>\n",
       "<td>75.0</td>\n",
       "<td>drf_grid1_model_7</td>\n",
       "<td>0.9969125</td></tr>\n",
       "<tr><td></td>\n",
       "<td>5.0</td>\n",
       "<td>5.0</td>\n",
       "<td>75.0</td>\n",
       "<td>drf_grid1_model_10</td>\n",
       "<td>0.9968855</td></tr>\n",
       "<tr><td></td>\n",
       "<td>5.0</td>\n",
       "<td>1.0</td>\n",
       "<td>50.0</td>\n",
       "<td>drf_grid1_model_1</td>\n",
       "<td>0.9959792</td></tr>\n",
       "<tr><td></td>\n",
       "<td>5.0</td>\n",
       "<td>5.0</td>\n",
       "<td>50.0</td>\n",
       "<td>drf_grid1_model_4</td>\n",
       "<td>0.9959299</td></tr></tbody>\n",
       "  </table>\n",
       "</div>\n"
      ],
      "text/plain": [
       "Hyper-Parameter Search Summary: ordered by decreasing r2\n",
       "    max_depth    min_rows    ntrees    model_ids           r2\n",
       "--  -----------  ----------  --------  ------------------  --------\n",
       "    10           1           100       drf_grid1_model_14  0.998728\n",
       "    10           1           75        drf_grid1_model_8   0.998689\n",
       "    10           1           50        drf_grid1_model_2   0.998563\n",
       "    10           5           100       drf_grid1_model_17  0.99856\n",
       "    10           5           75        drf_grid1_model_11  0.998501\n",
       "    10           5           50        drf_grid1_model_5   0.998312\n",
       "    15           5           100       drf_grid1_model_18  0.998169\n",
       "    15           5           75        drf_grid1_model_12  0.998155\n",
       "    15           5           50        drf_grid1_model_6   0.998035\n",
       "    15           1           100       drf_grid1_model_15  0.99772\n",
       "    15           1           75        drf_grid1_model_9   0.997719\n",
       "    15           1           50        drf_grid1_model_3   0.997691\n",
       "    5            5           100       drf_grid1_model_16  0.997422\n",
       "    5            1           100       drf_grid1_model_13  0.997365\n",
       "    5            1           75        drf_grid1_model_7   0.996912\n",
       "    5            5           75        drf_grid1_model_10  0.996885\n",
       "    5            1           50        drf_grid1_model_1   0.995979\n",
       "    5            5           50        drf_grid1_model_4   0.99593"
      ]
     },
     "metadata": {},
     "output_type": "display_data"
    }
   ],
   "source": [
    "drf_gridperf1 = drf_grid1.get_grid(sort_by='r2', decreasing=True)\n",
    "display(drf_gridperf1)\n"
   ]
  },
  {
   "attachments": {},
   "cell_type": "markdown",
   "metadata": {},
   "source": [
    "## انتخاب بهترین مدل"
   ]
  },
  {
   "cell_type": "code",
   "execution_count": 8,
   "metadata": {},
   "outputs": [
    {
     "data": {
      "text/html": [
       "\n",
       "<style>\n",
       "\n",
       "#h2o-table-4.h2o-container {\n",
       "  overflow-x: auto;\n",
       "}\n",
       "#h2o-table-4 .h2o-table {\n",
       "  /* width: 100%; */\n",
       "  margin-top: 1em;\n",
       "  margin-bottom: 1em;\n",
       "}\n",
       "#h2o-table-4 .h2o-table caption {\n",
       "  white-space: nowrap;\n",
       "  caption-side: top;\n",
       "  text-align: left;\n",
       "  /* margin-left: 1em; */\n",
       "  margin: 0;\n",
       "  font-size: larger;\n",
       "}\n",
       "#h2o-table-4 .h2o-table thead {\n",
       "  white-space: nowrap; \n",
       "  position: sticky;\n",
       "  top: 0;\n",
       "  box-shadow: 0 -1px inset;\n",
       "}\n",
       "#h2o-table-4 .h2o-table tbody {\n",
       "  overflow: auto;\n",
       "}\n",
       "#h2o-table-4 .h2o-table th,\n",
       "#h2o-table-4 .h2o-table td {\n",
       "  text-align: right;\n",
       "  /* border: 1px solid; */\n",
       "}\n",
       "#h2o-table-4 .h2o-table tr:nth-child(even) {\n",
       "  /* background: #F5F5F5 */\n",
       "}\n",
       "\n",
       "</style>      \n",
       "<div id=\"h2o-table-4\" class=\"h2o-container\">\n",
       "  <table class=\"h2o-table\">\n",
       "    <caption>Model Summary: </caption>\n",
       "    <thead><tr><th></th>\n",
       "<th>number_of_trees</th>\n",
       "<th>number_of_internal_trees</th>\n",
       "<th>model_size_in_bytes</th>\n",
       "<th>min_depth</th>\n",
       "<th>max_depth</th>\n",
       "<th>mean_depth</th>\n",
       "<th>min_leaves</th>\n",
       "<th>max_leaves</th>\n",
       "<th>mean_leaves</th></tr></thead>\n",
       "    <tbody><tr><td></td>\n",
       "<td>100.0</td>\n",
       "<td>100.0</td>\n",
       "<td>1537952.0</td>\n",
       "<td>10.0</td>\n",
       "<td>10.0</td>\n",
       "<td>10.0</td>\n",
       "<td>256.0</td>\n",
       "<td>945.0</td>\n",
       "<td>717.11</td></tr></tbody>\n",
       "  </table>\n",
       "</div>\n"
      ],
      "text/plain": [
       "Model Summary: \n",
       "    number_of_trees    number_of_internal_trees    model_size_in_bytes    min_depth    max_depth    mean_depth    min_leaves    max_leaves    mean_leaves\n",
       "--  -----------------  --------------------------  ---------------------  -----------  -----------  ------------  ------------  ------------  -------------\n",
       "    100                100                         1.53795e+06            10           10           10            256           945           717.11"
      ]
     },
     "execution_count": 8,
     "metadata": {},
     "output_type": "execute_result"
    }
   ],
   "source": [
    "best_drf1 = drf_gridperf1.models[0]\n",
    "best_drf1.summary()"
   ]
  },
  {
   "cell_type": "code",
   "execution_count": 9,
   "metadata": {},
   "outputs": [
    {
     "data": {
      "text/plain": [
       "0.9999613580012509"
      ]
     },
     "execution_count": 9,
     "metadata": {},
     "output_type": "execute_result"
    }
   ],
   "source": [
    "best_drf1.model_performance(train).r2()"
   ]
  },
  {
   "attachments": {},
   "cell_type": "markdown",
   "metadata": {},
   "source": [
    "## ارزیابی مدل"
   ]
  },
  {
   "cell_type": "code",
   "execution_count": 10,
   "metadata": {},
   "outputs": [
    {
     "data": {
      "text/plain": [
       "0.9992247619878964"
      ]
     },
     "execution_count": 10,
     "metadata": {},
     "output_type": "execute_result"
    }
   ],
   "source": [
    "best_drf_perf1 = best_drf1.model_performance(test)\n",
    "\n",
    "best_drf_perf1.r2()"
   ]
  },
  {
   "cell_type": "code",
   "execution_count": 11,
   "metadata": {},
   "outputs": [
    {
     "name": "stdout",
     "output_type": "stream",
     "text": [
      "gbm prediction progress: |███████████████████████████████████████████████████████| (done) 100%\n"
     ]
    },
    {
     "data": {
      "text/html": [
       "<table class='dataframe'>\n",
       "<thead>\n",
       "<tr><th style=\"text-align: right;\">  predict</th></tr>\n",
       "</thead>\n",
       "<tbody>\n",
       "<tr><td style=\"text-align: right;\">  61.9799</td></tr>\n",
       "<tr><td style=\"text-align: right;\">  62.5295</td></tr>\n",
       "<tr><td style=\"text-align: right;\">  63.2208</td></tr>\n",
       "<tr><td style=\"text-align: right;\">  63.4027</td></tr>\n",
       "<tr><td style=\"text-align: right;\">  63.6581</td></tr>\n",
       "<tr><td style=\"text-align: right;\">  63.7415</td></tr>\n",
       "<tr><td style=\"text-align: right;\">  63.9534</td></tr>\n",
       "<tr><td style=\"text-align: right;\">  64.2982</td></tr>\n",
       "<tr><td style=\"text-align: right;\">  64.2968</td></tr>\n",
       "<tr><td style=\"text-align: right;\">  64.4636</td></tr>\n",
       "</tbody>\n",
       "</table><pre style='font-size: smaller; margin-bottom: 1em;'>[2360 rows x 1 column]</pre>"
      ],
      "text/plain": [
       "  predict\n",
       "---------\n",
       "  61.9799\n",
       "  62.5295\n",
       "  63.2208\n",
       "  63.4027\n",
       "  63.6581\n",
       "  63.7415\n",
       "  63.9534\n",
       "  64.2982\n",
       "  64.2968\n",
       "  64.4636\n",
       "[2360 rows x 1 column]\n"
      ]
     },
     "execution_count": 11,
     "metadata": {},
     "output_type": "execute_result"
    }
   ],
   "source": [
    "pred_test = best_drf1.predict(test)\n",
    "pred_test"
   ]
  }
 ],
 "metadata": {
  "kernelspec": {
   "display_name": "venv",
   "language": "python",
   "name": "python3"
  },
  "language_info": {
   "codemirror_mode": {
    "name": "ipython",
    "version": 3
   },
   "file_extension": ".py",
   "mimetype": "text/x-python",
   "name": "python",
   "nbconvert_exporter": "python",
   "pygments_lexer": "ipython3",
   "version": "3.10.5"
  },
  "orig_nbformat": 4,
  "vscode": {
   "interpreter": {
    "hash": "3c5abc1949fd4eb5a30b67ba9849e79eff0ab5ff63e84a04760f6b787d4091b9"
   }
  }
 },
 "nbformat": 4,
 "nbformat_minor": 2
}
